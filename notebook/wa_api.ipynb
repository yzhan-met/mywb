{
 "cells": [
  {
   "cell_type": "markdown",
   "metadata": {},
   "source": [
    "# Web archive's API\n",
    "\n",
    "The notebook aims at exploring API options for web archive.\n"
   ]
  },
  {
   "cell_type": "markdown",
   "metadata": {},
   "source": [
    "## Useful resources\n",
    "\n",
    "- [Wayback Machine APIs](https://archive.org/help/wayback_api.php)\n",
    "- [Wayback CDX API](https://github.com/internetarchive/wayback/tree/master/wayback-cdx-server)\n",
    "- [Archive-it's CDX/C API](https://support.archive-it.org/hc/en-us/articles/115001790023-Access-Archive-It-s-Wayback-index-with-the-CDX-C-API) – includes useful general documentation of CDX format\n"
   ]
  },
  {
   "cell_type": "code",
   "execution_count": 28,
   "metadata": {},
   "outputs": [],
   "source": [
    "# required modules\n",
    "import requests\n",
    "import pandas as pd\n",
    "import json\n",
    "\n",
    "\n",
    "APIS = {\n",
    "    \"ia\": {\"url\": \"http://web.archive.org/cdx/search/cdx\", \"type\": \"wb\"},\n",
    "    \"nla\": {\"url\": \"https://web.archive.org.au/awa/cdx\", \"type\": \"pywb\"},\n",
    "    \"bl\": {\"url\": \"https://www.webarchive.org.uk/wayback/archive/cdx\", \"type\": \"pywb\"},\n",
    "    \"nlnz\": {\n",
    "        \"url\": \"https://ndhadeliver.natlib.govt.nz/webarchive/cdx\",\n",
    "        \"type\": \"pywb\",\n",
    "    },\n",
    "    \"ukgwa\": {\n",
    "        \"url\": \"https://webarchive.nationalarchives.gov.uk/ukgwa/cdx\",\n",
    "        \"type\": \"pywb\",\n",
    "    },\n",
    "}\n",
    "\n",
    "\n",
    "def raw_cdx_query(api, url, **kwargs):\n",
    "    params = kwargs\n",
    "    params[\"url\"] = url\n",
    "    params[\"output\"] = \"json\"\n",
    "    response = requests.get(APIS[api][\"url\"], params=params, timeout=60)\n",
    "    response.raise_for_status()\n",
    "    return response"
   ]
  },
  {
   "cell_type": "markdown",
   "metadata": {},
   "source": [
    "## CDX request\n"
   ]
  },
  {
   "cell_type": "code",
   "execution_count": 14,
   "metadata": {},
   "outputs": [],
   "source": [
    "param = {\"url\": \"https://www.metservice.com/\", \"limit\": 10, \"output\": \"json\"}\n",
    "\n",
    "res = requests.get(\"https://ndhadeliver.natlib.govt.nz/webarchive/cdx\", params=param)\n",
    "# res = res.json()\n",
    "\n",
    "# df = pd.DataFrame(res[1:], columns=res[0])\n",
    "# df"
   ]
  },
  {
   "cell_type": "code",
   "execution_count": 31,
   "metadata": {},
   "outputs": [
    {
     "data": {
      "text/plain": [
       "{'urlkey': 'com,metservice)/',\n",
       " 'timestamp': '20090912115209',\n",
       " 'url': 'http://www.metservice.com/',\n",
       " 'mime': 'text/html',\n",
       " 'status': '302',\n",
       " 'digest': 'JIEOSEEJQGNYE7KAP6CF6CYJZ6OJOHQR',\n",
       " 'redirect': '-',\n",
       " 'robotflags': '-',\n",
       " 'length': '0',\n",
       " 'offset': '51633167',\n",
       " 'filename': 'V1-FL1277029.arc',\n",
       " 'load_url': 'http://10.4.1.66:80/nlnzwebarchive_PROD/ap/20090912115209id_/http://www.metservice.com/',\n",
       " 'source': 'webarchive',\n",
       " 'source-coll': 'webarchive'}"
      ]
     },
     "execution_count": 31,
     "metadata": {},
     "output_type": "execute_result"
    }
   ],
   "source": [
    "json.loads(raw_cdx_query(\"nlnz\", \"metservice.com\", limit=1, format=\"json\").text)"
   ]
  },
  {
   "cell_type": "code",
   "execution_count": 34,
   "metadata": {},
   "outputs": [
    {
     "data": {
      "text/plain": [
       "29"
      ]
     },
     "execution_count": 34,
     "metadata": {},
     "output_type": "execute_result"
    }
   ],
   "source": [
    "# Look for an exact url\n",
    "exact = len(\n",
    "    raw_cdx_query(\n",
    "        \"nlnz\",\n",
    "        \"http://www.metservice.com/\",\n",
    "        filter=[\"status:200\", \"mimetype:text/html\"],\n",
    "        format=\"json\",\n",
    "    ).text.splitlines()\n",
    ")\n",
    "exact"
   ]
  },
  {
   "cell_type": "code",
   "execution_count": 35,
   "metadata": {},
   "outputs": [
    {
     "data": {
      "text/plain": [
       "['{\"urlkey\": \"com,metservice)/\", \"timestamp\": \"20200501111229\", \"url\": \"https://www.metservice.com/\", \"mime\": \"text/html\", \"status\": \"200\", \"digest\": \"FLFBP6WSUUPWXRNO63QFJAAVWPEWXISM\", \"redirect\": \"-\", \"robotflags\": \"-\", \"length\": \"0\", \"offset\": \"88300448\", \"filename\": \"V1-FL53804551.warc\", \"load_url\": \"http://10.4.1.66:80/nlnzwebarchive_PROD/ap/20200501111229id_/https://www.metservice.com/\", \"source\": \"webarchive\", \"source-coll\": \"webarchive\"}',\n",
       " '{\"urlkey\": \"com,metservice)/\", \"timestamp\": \"20200923034106\", \"url\": \"https://www.metservice.com/\", \"mime\": \"text/html\", \"status\": \"200\", \"digest\": \"WPC36SVOJ5B327MIIF3PO2ULLNKGPFPP\", \"redirect\": \"-\", \"robotflags\": \"-\", \"length\": \"0\", \"offset\": \"22139601\", \"filename\": \"V1-FL58704011.warc\", \"load_url\": \"http://10.4.1.66:80/nlnzwebarchive_PROD/ap/20200923034106id_/https://www.metservice.com/\", \"source\": \"webarchive\", \"source-coll\": \"webarchive\"}',\n",
       " '{\"urlkey\": \"com,metservice)/\", \"timestamp\": \"20201014100509\", \"url\": \"https://www.metservice.com/\", \"mime\": \"text/html\", \"status\": \"200\", \"digest\": \"WCS2H6VSRFLL4QTPPM7A6K6PALUXH4FI\", \"redirect\": \"-\", \"robotflags\": \"-\", \"length\": \"0\", \"offset\": \"46459675\", \"filename\": \"V1-FL58048944.warc\", \"load_url\": \"http://10.4.1.66:80/nlnzwebarchive_PROD/ap/20201014100509id_/https://www.metservice.com/\", \"source\": \"webarchive\", \"source-coll\": \"webarchive\"}',\n",
       " '{\"urlkey\": \"com,metservice)/\", \"timestamp\": \"20201123022534\", \"url\": \"https://www.metservice.com/\", \"mime\": \"text/html\", \"status\": \"200\", \"digest\": \"FOU6YOXTY7BHRQSJGIXHX5T7US25FUOP\", \"redirect\": \"-\", \"robotflags\": \"-\", \"length\": \"0\", \"offset\": \"60588059\", \"filename\": \"V1-FL60351615.warc\", \"load_url\": \"http://10.4.1.66:80/nlnzwebarchive_PROD/ap/20201123022534id_/https://www.metservice.com/\", \"source\": \"webarchive\", \"source-coll\": \"webarchive\"}',\n",
       " '{\"urlkey\": \"com,metservice)/\", \"timestamp\": \"20210202160058\", \"url\": \"https://www.metservice.com/\", \"mime\": \"text/html\", \"status\": \"200\", \"digest\": \"CPLU6GOZXUHBKBFZN77IMLJ2EMD736JA\", \"redirect\": \"-\", \"robotflags\": \"-\", \"length\": \"0\", \"offset\": \"29680279\", \"filename\": \"V1-FL62390024.warc\", \"load_url\": \"http://10.4.1.66:80/nlnzwebarchive_PROD/ap/20210202160058id_/https://www.metservice.com/\", \"source\": \"webarchive\", \"source-coll\": \"webarchive\"}',\n",
       " '{\"urlkey\": \"com,metservice)/\", \"timestamp\": \"20210311142250\", \"url\": \"https://www.metservice.com/\", \"mime\": \"text/html\", \"status\": \"200\", \"digest\": \"MZ37FMOKZHI5WB4IXJS5KNIVHCXBC46T\", \"redirect\": \"-\", \"robotflags\": \"-\", \"length\": \"0\", \"offset\": \"66255089\", \"filename\": \"V1-FL64822619.warc\", \"load_url\": \"http://10.4.1.66:80/nlnzwebarchive_PROD/ap/20210311142250id_/https://www.metservice.com/\", \"source\": \"webarchive\", \"source-coll\": \"webarchive\"}',\n",
       " '{\"urlkey\": \"com,metservice)/\", \"timestamp\": \"20210318071605\", \"url\": \"https://www.metservice.com/\", \"mime\": \"text/html\", \"status\": \"200\", \"digest\": \"MZ37FMOKZHI5WB4IXJS5KNIVHCXBC46T\", \"redirect\": \"-\", \"robotflags\": \"-\", \"length\": \"0\", \"offset\": \"31858541\", \"filename\": \"V1-FL65024666.warc\", \"load_url\": \"http://10.4.1.66:80/nlnzwebarchive_PROD/ap/20210318071605id_/https://www.metservice.com/\", \"source\": \"webarchive\", \"source-coll\": \"webarchive\"}',\n",
       " '{\"urlkey\": \"com,metservice)/\", \"timestamp\": \"20210524094222\", \"url\": \"https://www.metservice.com/\", \"mime\": \"text/html\", \"status\": \"200\", \"digest\": \"ZP6BBZAUYVJ2MP6RJPVK2K4KREEEPQ6O\", \"redirect\": \"-\", \"robotflags\": \"-\", \"length\": \"0\", \"offset\": \"27925050\", \"filename\": \"V1-FL69122745.warc\", \"load_url\": \"http://10.4.1.66:80/nlnzwebarchive_PROD/ap/20210524094222id_/https://www.metservice.com/\", \"source\": \"webarchive\", \"source-coll\": \"webarchive\"}',\n",
       " '{\"urlkey\": \"com,metservice)/\", \"timestamp\": \"20210911154357\", \"url\": \"https://www.metservice.com/\", \"mime\": \"text/html\", \"status\": \"200\", \"digest\": \"TE22UHP4A2UWNTVKZCSXOHE2OM6WKGY2\", \"redirect\": \"-\", \"robotflags\": \"-\", \"length\": \"0\", \"offset\": \"42556084\", \"filename\": \"V1-FL76976786.warc\", \"load_url\": \"http://10.4.1.66:80/nlnzwebarchive_PROD/ap/20210911154357id_/https://www.metservice.com/\", \"source\": \"webarchive\", \"source-coll\": \"webarchive\"}',\n",
       " '{\"urlkey\": \"com,metservice)/\", \"timestamp\": \"20210914094805\", \"url\": \"http://www2.metservice.com/\", \"mime\": \"text/html\", \"status\": \"200\", \"digest\": \"3MAATJ3FSQKUMXIVQ2IMP2RUPAHXNOX2\", \"redirect\": \"-\", \"robotflags\": \"-\", \"length\": \"0\", \"offset\": \"82296202\", \"filename\": \"V1-FL77237537.warc\", \"load_url\": \"http://10.4.1.66:80/nlnzwebarchive_PROD/ap/20210914094805id_/http://www2.metservice.com/\", \"source\": \"webarchive\", \"source-coll\": \"webarchive\"}',\n",
       " '{\"urlkey\": \"com,metservice)/\", \"timestamp\": \"20210914094810\", \"url\": \"https://www.metservice.com/\", \"mime\": \"text/html\", \"status\": \"200\", \"digest\": \"TE22UHP4A2UWNTVKZCSXOHE2OM6WKGY2\", \"redirect\": \"-\", \"robotflags\": \"-\", \"length\": \"0\", \"offset\": \"90137418\", \"filename\": \"V1-FL77237537.warc\", \"load_url\": \"http://10.4.1.66:80/nlnzwebarchive_PROD/ap/20210914094810id_/https://www.metservice.com/\", \"source\": \"webarchive\", \"source-coll\": \"webarchive\"}',\n",
       " '{\"urlkey\": \"com,metservice)/\", \"timestamp\": \"20211005063334\", \"url\": \"https://www.metservice.com/\", \"mime\": \"text/html\", \"status\": \"200\", \"digest\": \"TE22UHP4A2UWNTVKZCSXOHE2OM6WKGY2\", \"redirect\": \"-\", \"robotflags\": \"-\", \"length\": \"0\", \"offset\": \"9541315\", \"filename\": \"V1-FL77924538.warc\", \"load_url\": \"http://10.4.1.66:80/nlnzwebarchive_PROD/ap/20211005063334id_/https://www.metservice.com/\", \"source\": \"webarchive\", \"source-coll\": \"webarchive\"}',\n",
       " '{\"urlkey\": \"com,metservice)/\", \"timestamp\": \"20220111125815\", \"url\": \"https://www.metservice.com/\", \"mime\": \"text/html\", \"status\": \"200\", \"digest\": \"MXINKHCI7ZKBFMMV3CMIVGZMHN4LHWA7\", \"redirect\": \"-\", \"robotflags\": \"-\", \"length\": \"0\", \"offset\": \"1743271\", \"filename\": \"V1-FL80000924.warc\", \"load_url\": \"http://10.4.1.66:80/nlnzwebarchive_PROD/ap/20220111125815id_/https://www.metservice.com/\", \"source\": \"webarchive\", \"source-coll\": \"webarchive\"}',\n",
       " '{\"urlkey\": \"com,metservice)/\", \"timestamp\": \"20220119151254\", \"url\": \"https://www.metservice.com/\", \"mime\": \"text/html\", \"status\": \"200\", \"digest\": \"MXINKHCI7ZKBFMMV3CMIVGZMHN4LHWA7\", \"redirect\": \"-\", \"robotflags\": \"-\", \"length\": \"0\", \"offset\": \"1414189\", \"filename\": \"V1-FL80072804.warc\", \"load_url\": \"http://10.4.1.66:80/nlnzwebarchive_PROD/ap/20220119151254id_/https://www.metservice.com/\", \"source\": \"webarchive\", \"source-coll\": \"webarchive\"}',\n",
       " '{\"urlkey\": \"com,metservice)/\", \"timestamp\": \"20220125150149\", \"url\": \"https://www.metservice.com/\", \"mime\": \"text/html\", \"status\": \"200\", \"digest\": \"H7SE5YEODIYZYNGTSP5G76OAC3JHBI7O\", \"redirect\": \"-\", \"robotflags\": \"-\", \"length\": \"0\", \"offset\": \"4297535\", \"filename\": \"V1-FL80128680.warc\", \"load_url\": \"http://10.4.1.66:80/nlnzwebarchive_PROD/ap/20220125150149id_/https://www.metservice.com/\", \"source\": \"webarchive\", \"source-coll\": \"webarchive\"}',\n",
       " '{\"urlkey\": \"com,metservice)/\", \"timestamp\": \"20220302155032\", \"url\": \"https://www.metservice.com/\", \"mime\": \"text/html\", \"status\": \"200\", \"digest\": \"4PXYVO3E4SFZL2OJWKL7J4KBUDY7UTA5\", \"redirect\": \"-\", \"robotflags\": \"-\", \"length\": \"0\", \"offset\": \"321267\", \"filename\": \"V1-FL80364224.warc\", \"load_url\": \"http://10.4.1.66:80/nlnzwebarchive_PROD/ap/20220302155032id_/https://www.metservice.com/\", \"source\": \"webarchive\", \"source-coll\": \"webarchive\"}',\n",
       " '{\"urlkey\": \"com,metservice)/\", \"timestamp\": \"20220310071705\", \"url\": \"https://www.metservice.com/\", \"mime\": \"text/html\", \"status\": \"200\", \"digest\": \"4M4LKRYKJ4NXQLKHYMLRSOLHCQSZKEXU\", \"redirect\": \"-\", \"robotflags\": \"-\", \"length\": \"0\", \"offset\": \"17893443\", \"filename\": \"V1-FL80480126.warc\", \"load_url\": \"http://10.4.1.66:80/nlnzwebarchive_PROD/ap/20220310071705id_/https://www.metservice.com/\", \"source\": \"webarchive\", \"source-coll\": \"webarchive\"}',\n",
       " '{\"urlkey\": \"com,metservice)/\", \"timestamp\": \"20220311224929\", \"url\": \"https://www.metservice.com/\", \"mime\": \"text/html\", \"status\": \"200\", \"digest\": \"4M4LKRYKJ4NXQLKHYMLRSOLHCQSZKEXU\", \"redirect\": \"-\", \"robotflags\": \"-\", \"length\": \"0\", \"offset\": \"71062723\", \"filename\": \"V1-FL80478532.warc\", \"load_url\": \"http://10.4.1.66:80/nlnzwebarchive_PROD/ap/20220311224929id_/https://www.metservice.com/\", \"source\": \"webarchive\", \"source-coll\": \"webarchive\"}',\n",
       " '{\"urlkey\": \"com,metservice)/\", \"timestamp\": \"20220318071810\", \"url\": \"https://www.metservice.com/\", \"mime\": \"text/html\", \"status\": \"200\", \"digest\": \"4M4LKRYKJ4NXQLKHYMLRSOLHCQSZKEXU\", \"redirect\": \"-\", \"robotflags\": \"-\", \"length\": \"0\", \"offset\": \"72248460\", \"filename\": \"V1-FL80590828.warc\", \"load_url\": \"http://10.4.1.66:80/nlnzwebarchive_PROD/ap/20220318071810id_/https://www.metservice.com/\", \"source\": \"webarchive\", \"source-coll\": \"webarchive\"}',\n",
       " '{\"urlkey\": \"com,metservice)/\", \"timestamp\": \"20220318205140\", \"url\": \"https://www.metservice.com/\", \"mime\": \"text/html\", \"status\": \"200\", \"digest\": \"4M4LKRYKJ4NXQLKHYMLRSOLHCQSZKEXU\", \"redirect\": \"-\", \"robotflags\": \"-\", \"length\": \"0\", \"offset\": \"89555705\", \"filename\": \"V1-FL81791924.warc\", \"load_url\": \"http://10.4.1.66:80/nlnzwebarchive_PROD/ap/20220318205140id_/https://www.metservice.com/\", \"source\": \"webarchive\", \"source-coll\": \"webarchive\"}',\n",
       " '{\"urlkey\": \"com,metservice)/\", \"timestamp\": \"20220517204445\", \"url\": \"https://www.metservice.com/\", \"mime\": \"text/html\", \"status\": \"200\", \"digest\": \"IECRCBYFCBJGBNWAGO6RU2ANZSBK7O7M\", \"redirect\": \"-\", \"robotflags\": \"-\", \"length\": \"0\", \"offset\": \"694449\", \"filename\": \"V1-FL81527952.warc\", \"load_url\": \"http://10.4.1.66:80/nlnzwebarchive_PROD/ap/20220517204445id_/https://www.metservice.com/\", \"source\": \"webarchive\", \"source-coll\": \"webarchive\"}',\n",
       " '{\"urlkey\": \"com,metservice)/\", \"timestamp\": \"20220531154554\", \"url\": \"https://www.metservice.com/\", \"mime\": \"text/html\", \"status\": \"200\", \"digest\": \"TL6B4KLJPBUHLSES57KJSYD7IQVA3G42\", \"redirect\": \"-\", \"robotflags\": \"-\", \"length\": \"0\", \"offset\": \"89391590\", \"filename\": \"V1-FL81671379.warc\", \"load_url\": \"http://10.4.1.66:80/nlnzwebarchive_PROD/ap/20220531154554id_/https://www.metservice.com/\", \"source\": \"webarchive\", \"source-coll\": \"webarchive\"}',\n",
       " '{\"urlkey\": \"com,metservice)/\", \"timestamp\": \"20220913043634\", \"url\": \"https://www.metservice.com/\", \"mime\": \"text/html\", \"status\": \"200\", \"digest\": \"4S3VQ4PYKLEIZ52LJ6MRHPE7AC4TBIBY\", \"redirect\": \"-\", \"robotflags\": \"-\", \"length\": \"0\", \"offset\": \"89030877\", \"filename\": \"V1-FL83800995.warc\", \"load_url\": \"http://10.4.1.66:80/nlnzwebarchive_PROD/ap/20220913043634id_/https://www.metservice.com/\", \"source\": \"webarchive\", \"source-coll\": \"webarchive\"}',\n",
       " '{\"urlkey\": \"com,metservice)/\", \"timestamp\": \"20221209073053\", \"url\": \"https://www.metservice.com/\", \"mime\": \"text/html\", \"status\": \"200\", \"digest\": \"LJ2UO674MXWRPB5JT5Z6VQHEY2XT2OX5\", \"redirect\": \"-\", \"robotflags\": \"-\", \"length\": \"0\", \"offset\": \"1826896\", \"filename\": \"V1-FL84656634.warc\", \"load_url\": \"http://10.4.1.66:80/nlnzwebarchive_PROD/ap/20221209073053id_/https://www.metservice.com/\", \"source\": \"webarchive\", \"source-coll\": \"webarchive\"}',\n",
       " '{\"urlkey\": \"com,metservice)/\", \"timestamp\": \"20230215062316\", \"url\": \"https://www.metservice.com/\", \"mime\": \"text/html\", \"status\": \"200\", \"digest\": \"X676T3KS7YEDS3IRE7DWCHP4VIBODDTM\", \"redirect\": \"-\", \"robotflags\": \"-\", \"length\": \"0\", \"offset\": \"77398429\", \"filename\": \"V1-FL85733450.warc\", \"load_url\": \"http://10.4.1.66:80/nlnzwebarchive_PROD/ap/20230215062316id_/https://www.metservice.com/\", \"source\": \"webarchive\", \"source-coll\": \"webarchive\"}',\n",
       " '{\"urlkey\": \"com,metservice)/\", \"timestamp\": \"20230301121317\", \"url\": \"https://www.metservice.com/\", \"mime\": \"text/html\", \"status\": \"200\", \"digest\": \"IEIGWPLQ7SYYKDA5WIBZVNJ6ZZA4UDHR\", \"redirect\": \"-\", \"robotflags\": \"-\", \"length\": \"0\", \"offset\": \"64818201\", \"filename\": \"V1-FL85942168.warc\", \"load_url\": \"http://10.4.1.66:80/nlnzwebarchive_PROD/ap/20230301121317id_/https://www.metservice.com/\", \"source\": \"webarchive\", \"source-coll\": \"webarchive\"}',\n",
       " '{\"urlkey\": \"com,metservice)/\", \"timestamp\": \"20230310232253\", \"url\": \"https://www.metservice.com/\", \"mime\": \"text/html\", \"status\": \"200\", \"digest\": \"VLVYD7R3IDIFX24GQFHCYSL5ARPZRAQX\", \"redirect\": \"-\", \"robotflags\": \"-\", \"length\": \"0\", \"offset\": \"61071456\", \"filename\": \"V1-FL86049137.warc\", \"load_url\": \"http://10.4.1.66:80/nlnzwebarchive_PROD/ap/20230310232253id_/https://www.metservice.com/\", \"source\": \"webarchive\", \"source-coll\": \"webarchive\"}',\n",
       " '{\"urlkey\": \"com,metservice)/\", \"timestamp\": \"20230401144435\", \"url\": \"https://www.metservice.com/\", \"mime\": \"text/html\", \"status\": \"200\", \"digest\": \"QK553XMKSLBJQY2ENUTUTAHXGVG77GCI\", \"redirect\": \"-\", \"robotflags\": \"-\", \"length\": \"0\", \"offset\": \"74916969\", \"filename\": \"V1-FL86436455.warc\", \"load_url\": \"http://10.4.1.66:80/nlnzwebarchive_PROD/ap/20230401144435id_/https://www.metservice.com/\", \"source\": \"webarchive\", \"source-coll\": \"webarchive\"}',\n",
       " '{\"urlkey\": \"com,metservice)/\", \"timestamp\": \"20230411202721\", \"url\": \"https://www.metservice.com/\", \"mime\": \"text/html\", \"status\": \"200\", \"digest\": \"7HOLOQNBB5DA4P432MQVJIYBYZVECDLN\", \"redirect\": \"-\", \"robotflags\": \"-\", \"length\": \"0\", \"offset\": \"1017383\", \"filename\": \"V1-FL86516789.warc\", \"load_url\": \"http://10.4.1.66:80/nlnzwebarchive_PROD/ap/20230411202721id_/https://www.metservice.com/\", \"source\": \"webarchive\", \"source-coll\": \"webarchive\"}']"
      ]
     },
     "execution_count": 35,
     "metadata": {},
     "output_type": "execute_result"
    }
   ],
   "source": [
    "raw_cdx_query(\n",
    "    \"nlnz\",\n",
    "    \"http://www.metservice.com/\",\n",
    "    filter=[\"status:200\", \"mimetype:text/html\"],\n",
    "    format=\"json\",\n",
    ").text.splitlines()"
   ]
  },
  {
   "cell_type": "code",
   "execution_count": 50,
   "metadata": {},
   "outputs": [],
   "source": [
    "from fastwarc.stream_io import *\n",
    "\n",
    "stream = GZipStream(\n",
    "    FileStream(\n",
    "        \"../wb_collection/collections/my-web-archive/archive/rec-20230924224718994465-Legion.warc.gz\",\n",
    "        \"rb\",\n",
    "    )\n",
    ")"
   ]
  },
  {
   "cell_type": "code",
   "execution_count": 51,
   "metadata": {},
   "outputs": [],
   "source": [
    "for record in ArchiveIterator(stream):\n",
    "    record.headers  # Dict-like object containing the WARC headers\n",
    "    record.record_id  # Shorthand for record.headers['WARC-Record-ID']\n",
    "    record.record_type  # Shorthand for record.headers['WARC-Type']\n",
    "    record.record_date  # Parsed record.headers['WARC-Date']\n",
    "    record.content_length  # Effective record payload length\n",
    "    record.stream_pos  # Record start offset in the (uncompressed) stream\n",
    "    record.is_http  # Boolean indicating whether record is an HTTP record\n",
    "    record.http_headers  # Dict-like object containing the parsed HTTP headers\n",
    "    record.http_content_type  # Plain HTTP Content-Type without charset\n",
    "    record.http_charset  # HTTP charset from the Content-Type header (if any)\n",
    "    record.http_date  # Parsed HTTP Date header\n",
    "    record.http_last_modified  # Parsed HTTP Last-Modified header\n",
    "    record.reader  # A BufferedReader for the record content\n",
    "\n",
    "    # Read and return up to 1024 bytes from the record stream\n",
    "    body = record.reader.read(1024)\n",
    "\n",
    "    # Consume and return the remaining record bytes\n",
    "    body += record.reader.read()\n",
    "\n",
    "    # Or: Consume rest of stream without allocating a buffer for it (i.e., skip over)\n",
    "    # record.reader.consume()"
   ]
  },
  {
   "cell_type": "code",
   "execution_count": 52,
   "metadata": {},
   "outputs": [
    {
     "data": {
      "text/plain": [
       "b''"
      ]
     },
     "execution_count": 52,
     "metadata": {},
     "output_type": "execute_result"
    }
   ],
   "source": [
    "body"
   ]
  },
  {
   "cell_type": "code",
   "execution_count": null,
   "metadata": {},
   "outputs": [],
   "source": []
  }
 ],
 "metadata": {
  "kernelspec": {
   "display_name": "env_wb",
   "language": "python",
   "name": "python3"
  },
  "language_info": {
   "codemirror_mode": {
    "name": "ipython",
    "version": 3
   },
   "file_extension": ".py",
   "mimetype": "text/x-python",
   "name": "python",
   "nbconvert_exporter": "python",
   "pygments_lexer": "ipython3",
   "version": "3.10.13"
  },
  "orig_nbformat": 4
 },
 "nbformat": 4,
 "nbformat_minor": 2
}
